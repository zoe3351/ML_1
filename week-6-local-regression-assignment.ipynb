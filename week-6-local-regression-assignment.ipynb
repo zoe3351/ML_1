{
 "cells": [
  {
   "cell_type": "markdown",
   "metadata": {},
   "source": [
    "# Predicting house prices using k-nearest neighbors regression\n",
    "In this notebook, you will implement k-nearest neighbors regression. You will:\n",
    "  * Find the k-nearest neighbors of a given query input\n",
    "  * Predict the output for the query input using the k-nearest neighbors\n",
    "  * Choose the best value of k using a validation set"
   ]
  },
  {
   "cell_type": "markdown",
   "metadata": {},
   "source": [
    "# Fire up GraphLab Create"
   ]
  },
  {
   "cell_type": "code",
   "execution_count": 1,
   "metadata": {
    "collapsed": true
   },
   "outputs": [],
   "source": [
    "import graphlab"
   ]
  },
  {
   "cell_type": "markdown",
   "metadata": {},
   "source": [
    "# Load in house sales data"
   ]
  },
  {
   "cell_type": "markdown",
   "metadata": {},
   "source": [
    "For this notebook, we use a subset of the King County housing dataset created by randomly selecting 40% of the houses in the full dataset."
   ]
  },
  {
   "cell_type": "code",
   "execution_count": 2,
   "metadata": {},
   "outputs": [
    {
     "name": "stdout",
     "output_type": "stream",
     "text": [
      "This non-commercial license of GraphLab Create for academic use is assigned to jd62@uw.edu and will expire on April 26, 2018.\n"
     ]
    },
    {
     "name": "stderr",
     "output_type": "stream",
     "text": [
      "[INFO] graphlab.cython.cy_server: GraphLab Create v2.1 started. Logging: /tmp/graphlab_server_1496616742.log\n"
     ]
    }
   ],
   "source": [
    "sales = graphlab.SFrame('kc_house_data_small.gl/')"
   ]
  },
  {
   "cell_type": "markdown",
   "metadata": {},
   "source": [
    "# Import useful functions from previous notebooks"
   ]
  },
  {
   "cell_type": "markdown",
   "metadata": {},
   "source": [
    "To efficiently compute pairwise distances among data points, we will convert the SFrame into a 2D Numpy array. First import the numpy library and then copy and paste `get_numpy_data()` from the second notebook of Week 2."
   ]
  },
  {
   "cell_type": "code",
   "execution_count": 3,
   "metadata": {
    "collapsed": true
   },
   "outputs": [],
   "source": [
    "import numpy as np # note this allows us to refer to numpy as np instead"
   ]
  },
  {
   "cell_type": "code",
   "execution_count": 4,
   "metadata": {
    "collapsed": true
   },
   "outputs": [],
   "source": [
    "def get_numpy_data(data_sframe, features, output):\n",
    "    data_sframe['constant'] = 1 # this is how you add a constant column to an SFrame\n",
    "    # add the column 'constant' to the front of the features list so that we can extract it along with the others:\n",
    "    features = ['constant'] + features # this is how you combine two lists\n",
    "    # select the columns of data_SFrame given by the features list into the SFrame features_sframe (now including constant):\n",
    "    features_sframe = data_sframe[features]\n",
    "    # the following line will convert the features_SFrame into a numpy matrix:\n",
    "    feature_matrix = features_sframe.to_numpy()\n",
    "    # assign the column of data_sframe associated with the output to the SArray output_sarray\n",
    "    output_sarray = data_sframe[output]\n",
    "    # the following will convert the SArray into a numpy array by first converting it to a list\n",
    "    output_array = output_sarray.to_numpy()\n",
    "    return(feature_matrix, output_array)"
   ]
  },
  {
   "cell_type": "markdown",
   "metadata": {},
   "source": [
    "We will also need the `normalize_features()` function from Week 5 that normalizes all feature columns to unit norm. Paste this function below."
   ]
  },
  {
   "cell_type": "code",
   "execution_count": 5,
   "metadata": {
    "collapsed": true
   },
   "outputs": [],
   "source": [
    "def normalize_features(feature_matrix):\n",
    "    x = np.array(feature_matrix)\n",
    "    norms = np.linalg.norm(x, axis=0)\n",
    "    normalized_features = x / norms\n",
    "    return(normalized_features, norms)"
   ]
  },
  {
   "cell_type": "markdown",
   "metadata": {},
   "source": [
    "# Split data into training, test, and validation sets"
   ]
  },
  {
   "cell_type": "code",
   "execution_count": 6,
   "metadata": {},
   "outputs": [],
   "source": [
    "(train_and_validation, test) = sales.random_split(.8, seed=1) # initial train/test split\n",
    "(train, validation) = train_and_validation.random_split(.8, seed=1) # split training set into training and validation sets"
   ]
  },
  {
   "cell_type": "markdown",
   "metadata": {},
   "source": [
    "# Extract features and normalize"
   ]
  },
  {
   "cell_type": "markdown",
   "metadata": {},
   "source": [
    "Using all of the numerical inputs listed in `feature_list`, transform the training, test, and validation SFrames into Numpy arrays:"
   ]
  },
  {
   "cell_type": "code",
   "execution_count": 7,
   "metadata": {},
   "outputs": [],
   "source": [
    "feature_list = ['bedrooms',  \n",
    "                'bathrooms',  \n",
    "                'sqft_living',  \n",
    "                'sqft_lot',  \n",
    "                'floors',\n",
    "                'waterfront',  \n",
    "                'view',  \n",
    "                'condition',  \n",
    "                'grade',  \n",
    "                'sqft_above',  \n",
    "                'sqft_basement',\n",
    "                'yr_built',  \n",
    "                'yr_renovated',  \n",
    "                'lat',  \n",
    "                'long',  \n",
    "                'sqft_living15',  \n",
    "                'sqft_lot15']\n",
    "features_train, output_train = get_numpy_data(train, feature_list, 'price')\n",
    "features_test, output_test = get_numpy_data(test, feature_list, 'price')\n",
    "features_valid, output_valid = get_numpy_data(validation, feature_list, 'price')"
   ]
  },
  {
   "cell_type": "markdown",
   "metadata": {},
   "source": [
    "In computing distances, it is crucial to normalize features. Otherwise, for example, the `sqft_living` feature (typically on the order of thousands) would exert a much larger influence on distance than the `bedrooms` feature (typically on the order of ones). We divide each column of the training feature matrix by its 2-norm, so that the transformed column has unit norm.\n",
    "\n",
    "IMPORTANT: Make sure to store the norms of the features in the training set. The features in the test and validation sets must be divided by these same norms, so that the training, test, and validation sets are normalized consistently."
   ]
  },
  {
   "cell_type": "code",
   "execution_count": 8,
   "metadata": {
    "collapsed": true
   },
   "outputs": [],
   "source": [
    "features_train, norms = normalize_features(features_train) # normalize training set features (columns)\n",
    "features_test = features_test / norms # normalize test set by training set norms\n",
    "features_valid = features_valid / norms # normalize validation set by training set norms"
   ]
  },
  {
   "cell_type": "markdown",
   "metadata": {},
   "source": [
    "# Compute a single distance"
   ]
  },
  {
   "cell_type": "markdown",
   "metadata": {},
   "source": [
    "To start, let's just explore computing the \"distance\" between two given houses.  We will take our **query house** to be the first house of the test set and look at the distance between this house and the 10th house of the training set.\n",
    "\n",
    "To see the features associated with the query house, print the first row (index 0) of the test feature matrix. You should get an 18-dimensional vector whose components are between 0 and 1."
   ]
  },
  {
   "cell_type": "code",
   "execution_count": 93,
   "metadata": {},
   "outputs": [],
   "source": [
    "house0 = features_test[0]"
   ]
  },
  {
   "cell_type": "markdown",
   "metadata": {},
   "source": [
    "Now print the 10th row (index 9) of the training feature matrix. Again, you get an 18-dimensional vector with components between 0 and 1."
   ]
  },
  {
   "cell_type": "code",
   "execution_count": 95,
   "metadata": {},
   "outputs": [],
   "source": [
    "house10 = features_train[9]"
   ]
  },
  {
   "cell_type": "code",
   "execution_count": 99,
   "metadata": {},
   "outputs": [
    {
     "data": {
      "text/plain": [
       "0.059723593716661257"
      ]
     },
     "execution_count": 99,
     "metadata": {},
     "output_type": "execute_result"
    }
   ],
   "source": [
    "diff = house0 - house10\n",
    "diff\n",
    "ss = 0\n",
    "for i in diff:\n",
    "    ss += i * i\n",
    "\n",
    "np.sqrt(ss)"
   ]
  },
  {
   "cell_type": "markdown",
   "metadata": {},
   "source": [
    "***QUIZ QUESTION ***\n",
    "\n",
    "What is the Euclidean distance between the query house and the 10th house of the training set? \n",
    "\n",
    "Note: Do not use the `np.linalg.norm` function; use `np.sqrt`, `np.sum`, and the power operator (`**`) instead. The latter approach is more easily adapted to computing multiple distances at once."
   ]
  },
  {
   "cell_type": "code",
   "execution_count": 96,
   "metadata": {},
   "outputs": [
    {
     "data": {
      "text/plain": [
       "0.10666078687062755"
      ]
     },
     "execution_count": 96,
     "metadata": {},
     "output_type": "execute_result"
    }
   ],
   "source": [
    "\n",
    "distance_0_9 = np.sqrt(np.sum((house10 - house0) ** 2)\n",
    "np.sum(house10 - house0)"
   ]
  },
  {
   "cell_type": "markdown",
   "metadata": {},
   "source": [
    "# Compute multiple distances"
   ]
  },
  {
   "cell_type": "markdown",
   "metadata": {},
   "source": [
    "Of course, to do nearest neighbor regression, we need to compute the distance between our query house and *all* houses in the training set.  \n",
    "\n",
    "To visualize this nearest-neighbor search, let's first compute the distance from our query house (`features_test[0]`) to the first 10 houses of the training set (`features_train[0:10]`) and then search for the nearest neighbor within this small set of houses.  Through restricting ourselves to a small set of houses to begin with, we can visually scan the list of 10 distances to verify that our code for finding the nearest neighbor is working.\n",
    "\n",
    "Write a loop to compute the Euclidean distance from the query house to each of the first 10 houses in the training set."
   ]
  },
  {
   "cell_type": "code",
   "execution_count": 103,
   "metadata": {},
   "outputs": [
    {
     "data": {
      "text/plain": [
       "[0.0602747091729555,\n",
       " 0.085468811488270832,\n",
       " 0.061499464371202843,\n",
       " 0.053402739788200579,\n",
       " 0.058444840639381393,\n",
       " 0.059879215101840008,\n",
       " 0.054631404972615261,\n",
       " 0.055431083241597921,\n",
       " 0.052383627840972731,\n",
       " 0.059723593716661257]"
      ]
     },
     "execution_count": 103,
     "metadata": {},
     "output_type": "execute_result"
    }
   ],
   "source": [
    "distances = []\n",
    "for housex in features_train[0:10]:\n",
    "    diff = house0 - housex\n",
    "    distances.append(np.sqrt(np.sum(diff * diff)))\n",
    "\n",
    "                     \n",
    "distances"
   ]
  },
  {
   "cell_type": "markdown",
   "metadata": {},
   "source": [
    "*** QUIZ QUESTION ***\n",
    "\n",
    "Among the first 10 training houses, which house is the closest to the query house?"
   ]
  },
  {
   "cell_type": "code",
   "execution_count": null,
   "metadata": {},
   "outputs": [],
   "source": [
    "2nd"
   ]
  },
  {
   "cell_type": "markdown",
   "metadata": {},
   "source": [
    "It is computationally inefficient to loop over computing distances to all houses in our training dataset. Fortunately, many of the Numpy functions can be **vectorized**, applying the same operation over multiple values or vectors.  We now walk through this process."
   ]
  },
  {
   "cell_type": "markdown",
   "metadata": {},
   "source": [
    "Consider the following loop that computes the element-wise difference between the features of the query house (`features_test[0]`) and the first 3 training houses (`features_train[0:3]`):"
   ]
  },
  {
   "cell_type": "code",
   "execution_count": 23,
   "metadata": {
    "scrolled": false
   },
   "outputs": [
    {
     "name": "stdout",
     "output_type": "stream",
     "text": [
      "[  0.00000000e+00  -3.87821276e-03  -1.20498190e-02  -1.05552733e-02\n",
      "   2.08673616e-04  -8.52950206e-03   0.00000000e+00  -5.10236549e-02\n",
      "   0.00000000e+00  -3.47633726e-03  -5.50336860e-03  -2.48168183e-02\n",
      "  -1.63756198e-04   0.00000000e+00  -1.70072004e-05   1.30577772e-05\n",
      "  -5.14364795e-03   6.69281453e-04]\n",
      "[  0.00000000e+00  -3.87821276e-03  -4.51868214e-03  -2.26610387e-03\n",
      "   7.19763456e-04   0.00000000e+00   0.00000000e+00  -5.10236549e-02\n",
      "   0.00000000e+00  -3.47633726e-03   1.30705004e-03  -1.45830788e-02\n",
      "  -1.91048898e-04   6.65082271e-02   4.23240653e-05   6.22415897e-06\n",
      "  -2.89330197e-03   1.47606982e-03]\n",
      "[  0.00000000e+00  -7.75642553e-03  -1.20498190e-02  -1.30002801e-02\n",
      "   1.60518166e-03  -8.52950206e-03   0.00000000e+00  -5.10236549e-02\n",
      "   0.00000000e+00  -5.21450589e-03  -8.32384500e-03  -2.48168183e-02\n",
      "  -3.13866046e-04   0.00000000e+00   4.71047219e-05   1.56530415e-05\n",
      "   3.72914476e-03   1.64764925e-03]\n"
     ]
    }
   ],
   "source": [
    "for i in xrange(3):\n",
    "    print features_train[i]-features_test[0]\n",
    "    # should print 3 vectors of length 18"
   ]
  },
  {
   "cell_type": "markdown",
   "metadata": {},
   "source": [
    "The subtraction operator (`-`) in Numpy is vectorized as follows:"
   ]
  },
  {
   "cell_type": "code",
   "execution_count": 24,
   "metadata": {},
   "outputs": [
    {
     "name": "stdout",
     "output_type": "stream",
     "text": [
      "[[  0.00000000e+00  -3.87821276e-03  -1.20498190e-02  -1.05552733e-02\n",
      "    2.08673616e-04  -8.52950206e-03   0.00000000e+00  -5.10236549e-02\n",
      "    0.00000000e+00  -3.47633726e-03  -5.50336860e-03  -2.48168183e-02\n",
      "   -1.63756198e-04   0.00000000e+00  -1.70072004e-05   1.30577772e-05\n",
      "   -5.14364795e-03   6.69281453e-04]\n",
      " [  0.00000000e+00  -3.87821276e-03  -4.51868214e-03  -2.26610387e-03\n",
      "    7.19763456e-04   0.00000000e+00   0.00000000e+00  -5.10236549e-02\n",
      "    0.00000000e+00  -3.47633726e-03   1.30705004e-03  -1.45830788e-02\n",
      "   -1.91048898e-04   6.65082271e-02   4.23240653e-05   6.22415897e-06\n",
      "   -2.89330197e-03   1.47606982e-03]\n",
      " [  0.00000000e+00  -7.75642553e-03  -1.20498190e-02  -1.30002801e-02\n",
      "    1.60518166e-03  -8.52950206e-03   0.00000000e+00  -5.10236549e-02\n",
      "    0.00000000e+00  -5.21450589e-03  -8.32384500e-03  -2.48168183e-02\n",
      "   -3.13866046e-04   0.00000000e+00   4.71047219e-05   1.56530415e-05\n",
      "    3.72914476e-03   1.64764925e-03]]\n"
     ]
    }
   ],
   "source": [
    "print features_train[0:3] - features_test[0]"
   ]
  },
  {
   "cell_type": "markdown",
   "metadata": {},
   "source": [
    "Note that the output of this vectorized operation is identical to that of the loop above, which can be verified below:"
   ]
  },
  {
   "cell_type": "code",
   "execution_count": 25,
   "metadata": {},
   "outputs": [
    {
     "name": "stdout",
     "output_type": "stream",
     "text": [
      "[ 0.  0.  0.  0.  0.  0.  0.  0.  0.  0.  0.  0.  0.  0.  0.  0.  0.  0.]\n",
      "[ 0.  0.  0.  0.  0.  0.  0.  0.  0.  0.  0.  0.  0.  0.  0.  0.  0.  0.]\n",
      "[ 0.  0.  0.  0.  0.  0.  0.  0.  0.  0.  0.  0.  0.  0.  0.  0.  0.  0.]\n"
     ]
    }
   ],
   "source": [
    "# verify that vectorization works\n",
    "results = features_train[0:3] - features_test[0]\n",
    "print results[0] - (features_train[0]-features_test[0])\n",
    "# should print all 0's if results[0] == (features_train[0]-features_test[0])\n",
    "print results[1] - (features_train[1]-features_test[0])\n",
    "# should print all 0's if results[1] == (features_train[1]-features_test[0])\n",
    "print results[2] - (features_train[2]-features_test[0])\n",
    "# should print all 0's if results[2] == (features_train[2]-features_test[0])"
   ]
  },
  {
   "cell_type": "markdown",
   "metadata": {},
   "source": [
    "Aside: it is a good idea to write tests like this cell whenever you are vectorizing a complicated operation."
   ]
  },
  {
   "cell_type": "markdown",
   "metadata": {},
   "source": [
    "# Perform 1-nearest neighbor regression\n",
    "\n",
    "Now that we have the element-wise differences, it is not too hard to compute the Euclidean distances between our query house and all of the training houses. First, write a single-line expression to define a variable `diff` such that `diff[i]` gives the element-wise difference between the features of the query house and the `i`-th training house."
   ]
  },
  {
   "cell_type": "code",
   "execution_count": 27,
   "metadata": {},
   "outputs": [],
   "source": [
    "diff = features_train - features_test[0]"
   ]
  },
  {
   "cell_type": "markdown",
   "metadata": {},
   "source": [
    "To test the code above, run the following cell, which should output a value -0.0934339605842:"
   ]
  },
  {
   "cell_type": "code",
   "execution_count": 28,
   "metadata": {},
   "outputs": [
    {
     "name": "stdout",
     "output_type": "stream",
     "text": [
      "-0.0934339605842\n"
     ]
    }
   ],
   "source": [
    "print diff[-1].sum() # sum of the feature differences between the query and last training house\n",
    "# should print -0.0934339605842"
   ]
  },
  {
   "cell_type": "markdown",
   "metadata": {},
   "source": [
    "The next step in computing the Euclidean distances is to take these feature-by-feature differences in `diff`, square each, and take the sum over feature indices.  That is, compute the sum of square feature differences for each training house (row in `diff`).\n",
    "\n",
    "By default, `np.sum` sums up everything in the matrix and returns a single number. To instead sum only over a row or column, we need to specifiy the `axis` parameter described in the `np.sum` [documentation](http://docs.scipy.org/doc/numpy-1.10.1/reference/generated/numpy.sum.html). In particular, `axis=1` computes the sum across each row.\n",
    "\n",
    "Below, we compute this sum of square feature differences for all training houses and verify that the output for the 16th house in the training set is equivalent to having examined only the 16th row of `diff` and computing the sum of squares on that row alone."
   ]
  },
  {
   "cell_type": "code",
   "execution_count": 29,
   "metadata": {},
   "outputs": [
    {
     "name": "stdout",
     "output_type": "stream",
     "text": [
      "0.00330705902879\n",
      "0.00330705902879\n"
     ]
    }
   ],
   "source": [
    "print np.sum(diff**2, axis=1)[15] # take sum of squares across each row, and print the 16th sum\n",
    "print np.sum(diff[15]**2) # print the sum of squares for the 16th row -- should be same as above"
   ]
  },
  {
   "cell_type": "markdown",
   "metadata": {},
   "source": [
    "With this result in mind, write a single-line expression to compute the Euclidean distances between the query house and all houses in the training set. Assign the result to a variable `distances`.\n",
    "\n",
    "**Hint**: Do not forget to take the square root of the sum of squares."
   ]
  },
  {
   "cell_type": "code",
   "execution_count": 32,
   "metadata": {},
   "outputs": [],
   "source": [
    "distances = np.sqrt(np.sum(diff**2, axis=1))"
   ]
  },
  {
   "cell_type": "markdown",
   "metadata": {},
   "source": [
    "To test the code above, run the following cell, which should output a value 0.0237082324496:"
   ]
  },
  {
   "cell_type": "code",
   "execution_count": 33,
   "metadata": {},
   "outputs": [
    {
     "name": "stdout",
     "output_type": "stream",
     "text": [
      "0.0237082324496\n"
     ]
    }
   ],
   "source": [
    "print distances[100] # Euclidean distance between the query house and the 101th training house\n",
    "# should print 0.0237082324496"
   ]
  },
  {
   "cell_type": "markdown",
   "metadata": {},
   "source": [
    "Now you are ready to write a function that computes the distances from a query house to all training houses. The function should take two parameters: (i) the matrix of training features and (ii) the single feature vector associated with the query."
   ]
  },
  {
   "cell_type": "code",
   "execution_count": null,
   "metadata": {
    "collapsed": true
   },
   "outputs": [],
   "source": []
  },
  {
   "cell_type": "markdown",
   "metadata": {},
   "source": [
    "*** QUIZ QUESTIONS ***\n",
    "\n",
    "1.  Take the query house to be third house of the test set (`features_test[2]`).  What is the index of the house in the training set that is closest to this query house?\n",
    "2.  What is the predicted value of the query house based on 1-nearest neighbor regression?"
   ]
  },
  {
   "cell_type": "code",
   "execution_count": 119,
   "metadata": {},
   "outputs": [
    {
     "name": "stdout",
     "output_type": "stream",
     "text": [
      "0.00286049526751\n",
      "382\n"
     ]
    }
   ],
   "source": [
    "diff2 = features_train - features_test[2]\n",
    "distance2 = []\n",
    "for i in diff2:\n",
    "    distance2.append(np.sqrt(np.sum(i * i)))\n",
    "\n",
    "\n",
    "mindis = distance2[0]\n",
    "index = 0\n",
    "\n",
    "for idx in range(len(distance2)):\n",
    "    if distance2[idx] < mindis:\n",
    "        mindis = distance2[idx]\n",
    "        index = idx\n",
    "        \n",
    "print mindis\n",
    "print index"
   ]
  },
  {
   "cell_type": "code",
   "execution_count": 114,
   "metadata": {},
   "outputs": [
    {
     "data": {
      "text/plain": [
       "[0.019544756163206119,\n",
       " 0.068610347115025894,\n",
       " 0.021650785535226647,\n",
       " 0.012833847166170321,\n",
       " 0.019909175453794507,\n",
       " 0.019128649345562559,\n",
       " 0.0054339893593118981,\n",
       " 0.029386751682711102,\n",
       " 0.012479372925965874,\n",
       " 0.021836902301252285,\n",
       " 0.026464173393254051,\n",
       " 0.02598894166906017,\n",
       " 0.014638233026474396,\n",
       " 0.026378462731678133,\n",
       " 0.033514151526631522,\n",
       " 0.011596396818782384,\n",
       " 0.019727918350674438,\n",
       " 0.025236097056499918,\n",
       " 0.008327696437593372,\n",
       " 0.025630488330203881,\n",
       " 0.025969069727926484,\n",
       " 0.020416324156377317,\n",
       " 0.019494189468049081,\n",
       " 0.025299819016669303,\n",
       " 0.018103544354701434,\n",
       " 0.022480505223677658,\n",
       " 0.054241356311173251,\n",
       " 0.044077053850728999,\n",
       " 0.072583335365161941,\n",
       " 0.024976552564943799,\n",
       " 0.01051697402214307,\n",
       " 0.074991428533631485,\n",
       " 0.020538964598477087,\n",
       " 0.020142315437324147,\n",
       " 0.035712091467928739,\n",
       " 0.019344926761307175,\n",
       " 0.015229257794781244,\n",
       " 0.068832348231659971,\n",
       " 0.008668960934623323,\n",
       " 0.019387938456097514,\n",
       " 0.011672828891668364,\n",
       " 0.0089761848034416065,\n",
       " 0.016688509073854912,\n",
       " 0.022038847785020098,\n",
       " 0.021118339865881967,\n",
       " 0.019977633596746584,\n",
       " 0.032447457461763522,\n",
       " 0.0089186527330923707,\n",
       " 0.010009446236360726,\n",
       " 0.027713098029404824,\n",
       " 0.020194125324950286,\n",
       " 0.0196348641321441,\n",
       " 0.015147282677585827,\n",
       " 0.019722965821697636,\n",
       " 0.05231490654296856,\n",
       " 0.011595694036860692,\n",
       " 0.022822910800176798,\n",
       " 0.02096144272977931,\n",
       " 0.022996037230015719,\n",
       " 0.010783832122040905,\n",
       " 0.019551971225862028,\n",
       " 0.013708215814798809,\n",
       " 0.021836360445209656,\n",
       " 0.016716040814743535,\n",
       " 0.023773316180539697,\n",
       " 0.027667642021611691,\n",
       " 0.089316138962960909,\n",
       " 0.028680754278945286,\n",
       " 0.0099958299353365056,\n",
       " 0.02285853826997411,\n",
       " 0.01060978838593815,\n",
       " 0.022077220134265059,\n",
       " 0.020724266091185651,\n",
       " 0.068593245146948659,\n",
       " 0.095131718008298227,\n",
       " 0.020942942580593871,\n",
       " 0.021691647368803593,\n",
       " 0.0070069664286324619,\n",
       " 0.014201402227752076,\n",
       " 0.019651583428909273,\n",
       " 0.015788169842607846,\n",
       " 0.01945568758058653,\n",
       " 0.17372933877907054,\n",
       " 0.022813641484665765,\n",
       " 0.019943018576632967,\n",
       " 0.023573634081315374,\n",
       " 0.07469926953743096,\n",
       " 0.013899889238082516,\n",
       " 0.005827800078726182,\n",
       " 0.021099557753944169,\n",
       " 0.0079747641111116308,\n",
       " 0.020229078977501695,\n",
       " 0.019395850729630317,\n",
       " 0.02005251122734315,\n",
       " 0.026324346712741573,\n",
       " 0.035636646452109164,\n",
       " 0.026122956663068523,\n",
       " 0.024411079481926879,\n",
       " 0.02325611847487211,\n",
       " 0.011564801026646962,\n",
       " 0.041821856496251135,\n",
       " 0.034232987876538189,\n",
       " 0.013784174199997465,\n",
       " 0.032081814173204021,\n",
       " 0.069682339425025483,\n",
       " 0.023861347148164302,\n",
       " 0.026060089475551742,\n",
       " 0.023878506139582204,\n",
       " 0.020324833562922036,\n",
       " 0.022680368895140392,\n",
       " 0.019604968129204422,\n",
       " 0.019506058308239902,\n",
       " 0.021688523292235255,\n",
       " 0.032785675818127198,\n",
       " 0.087780644593129203,\n",
       " 0.022779153074110665,\n",
       " 0.024529857420259361,\n",
       " 0.024809503779152049,\n",
       " 0.0199935462303188,\n",
       " 0.068933689098855333,\n",
       " 0.022971480502864034,\n",
       " 0.02009414235713761,\n",
       " 0.020600330982855908,\n",
       " 0.013671770229228889,\n",
       " 0.019099173114274649,\n",
       " 0.020327289041215921,\n",
       " 0.012824620871886206,\n",
       " 0.020880981290200013,\n",
       " 0.027421550208486505,\n",
       " 0.021223752809845689,\n",
       " 0.025506832472845395,\n",
       " 0.019702552073509315,\n",
       " 0.035992996122928715,\n",
       " 0.010142792536992259,\n",
       " 0.020756983142306385,\n",
       " 0.020454206731653084,\n",
       " 0.021589273775454155,\n",
       " 0.026986320535225577,\n",
       " 0.020268088129171215,\n",
       " 0.021184389738328389,\n",
       " 0.070018767425961595,\n",
       " 0.016073511913742553,\n",
       " 0.020913215409374873,\n",
       " 0.05095322210472121,\n",
       " 0.019526059500007097,\n",
       " 0.019199930223880116,\n",
       " 0.02196684858349832,\n",
       " 0.024217318817420664,\n",
       " 0.014854575735107175,\n",
       " 0.020547450050390367,\n",
       " 0.020644335159597724,\n",
       " 0.081688412247493208,\n",
       " 0.026925616579388589,\n",
       " 0.037281851125043876,\n",
       " 0.0058660838247138088,\n",
       " 0.015310664338580299,\n",
       " 0.022711720778828562,\n",
       " 0.034386274036009204,\n",
       " 0.015637102686847846,\n",
       " 0.026690249927116147,\n",
       " 0.031291001083471534,\n",
       " 0.024408401727791487,\n",
       " 0.027006209842915265,\n",
       " 0.02192038495938085,\n",
       " 0.022761441225874937,\n",
       " 0.019380614771436322,\n",
       " 0.026467801907534776,\n",
       " 0.0071637874019113163,\n",
       " 0.016786295134951359,\n",
       " 0.021330893083616909,\n",
       " 0.019099107646445405,\n",
       " 0.033192825248121567,\n",
       " 0.029699396680335742,\n",
       " 0.024767250276199228,\n",
       " 0.0045450899235995748,\n",
       " 0.0075354770715301209,\n",
       " 0.0086368008835683747,\n",
       " 0.021570109721383214,\n",
       " 0.17567103345126944,\n",
       " 0.010337759456993568,\n",
       " 0.025838871649287304,\n",
       " 0.021874179489535999,\n",
       " 0.0078776855399752405,\n",
       " 0.055929493704345856,\n",
       " 0.027350525053556386,\n",
       " 0.020264304151959123,\n",
       " 0.020265379013340447,\n",
       " 0.024468457437573754,\n",
       " 0.013011441369351132,\n",
       " 0.012152604236427984,\n",
       " 0.020924116000861956,\n",
       " 0.046260954367268424,\n",
       " 0.024630593830990304,\n",
       " 0.072175032859478475,\n",
       " 0.072175032859478475,\n",
       " 0.022604198019823763,\n",
       " 0.021454680225334189,\n",
       " 0.048892600872986788,\n",
       " 0.014919168747534656,\n",
       " 0.010054876929085604,\n",
       " 0.020126464189941674,\n",
       " 0.052341842252615012,\n",
       " 0.0217822616726315,\n",
       " 0.020401974311671844,\n",
       " 0.024174292113853666,\n",
       " 0.0077775120467223286,\n",
       " 0.015828126086876781,\n",
       " 0.0070675379498548263,\n",
       " 0.023621590880278546,\n",
       " 0.01787175147090014,\n",
       " 0.016268061031143928,\n",
       " 0.014233976377742947,\n",
       " 0.022511597951221447,\n",
       " 0.0062279309916367879,\n",
       " 0.027118732029803902,\n",
       " 0.046230557501965072,\n",
       " 0.022871738869906438,\n",
       " 0.016949922568482909,\n",
       " 0.022917299655520387,\n",
       " 0.033999116380964492,\n",
       " 0.022615485398863346,\n",
       " 0.028875188822975024,\n",
       " 0.020538946822192879,\n",
       " 0.021892436974416261,\n",
       " 0.023513661498882295,\n",
       " 0.042846658271049831,\n",
       " 0.019934247434756039,\n",
       " 0.057954555546116754,\n",
       " 0.030751127146808624,\n",
       " 0.046905449346769948,\n",
       " 0.019671563181662986,\n",
       " 0.012206140343186348,\n",
       " 0.020563148511017929,\n",
       " 0.05119092226224714,\n",
       " 0.021688155811506758,\n",
       " 0.0066461567750024731,\n",
       " 0.019625899207001512,\n",
       " 0.037385464646915514,\n",
       " 0.033665635330891217,\n",
       " 0.0063271628933507084,\n",
       " 0.069709645432954784,\n",
       " 0.015895389054870385,\n",
       " 0.022012846973906843,\n",
       " 0.027190905172062737,\n",
       " 0.021580190556572235,\n",
       " 0.030858214928651272,\n",
       " 0.029865947786226907,\n",
       " 0.01993184802623027,\n",
       " 0.0086912993539578886,\n",
       " 0.019767711227615569,\n",
       " 0.0098397197696898208,\n",
       " 0.014954285710962594,\n",
       " 0.02515222184777632,\n",
       " 0.018092879418039148,\n",
       " 0.070632739102018213,\n",
       " 0.029754409573532273,\n",
       " 0.021084190340046736,\n",
       " 0.0207278032266833,\n",
       " 0.014678505486967482,\n",
       " 0.019632315790480949,\n",
       " 0.0080002084042141274,\n",
       " 0.02425802829893316,\n",
       " 0.019320334656172996,\n",
       " 0.061005264154239798,\n",
       " 0.006645632936184964,\n",
       " 0.020379457751827843,\n",
       " 0.030568602297295112,\n",
       " 0.057947007146211302,\n",
       " 0.023019784971165254,\n",
       " 0.025221946511567145,\n",
       " 0.011236566506571464,\n",
       " 0.011702120132412846,\n",
       " 0.01179017908671477,\n",
       " 0.056778235810249718,\n",
       " 0.011399560364963148,\n",
       " 0.025020895186945745,\n",
       " 0.02083773570069869,\n",
       " 0.019814465185037079,\n",
       " 0.062399705635448041,\n",
       " 0.020893110189407021,\n",
       " 0.022605941264629899,\n",
       " 0.020492853128254985,\n",
       " 0.11713351033934517,\n",
       " 0.010556220856961097,\n",
       " 0.054482878890869342,\n",
       " 0.037178366155231984,\n",
       " 0.054725371207761185,\n",
       " 0.019736198345651358,\n",
       " 0.072753664617032976,\n",
       " 0.013238851675718187,\n",
       " 0.013238851675718187,\n",
       " 0.011608185732309175,\n",
       " 0.024767958819832892,\n",
       " 0.016673460669453553,\n",
       " 0.020642145906052987,\n",
       " 0.02793124245878972,\n",
       " 0.023793712253905128,\n",
       " 0.030502532204076213,\n",
       " 0.035679535650350765,\n",
       " 0.020180667958157344,\n",
       " 0.021801705327401635,\n",
       " 0.013722968187050962,\n",
       " 0.005626037133468883,\n",
       " 0.021493895339425046,\n",
       " 0.0094576020670869253,\n",
       " 0.025297263215359626,\n",
       " 0.022763308341996295,\n",
       " 0.022463370737434669,\n",
       " 0.035823070445115089,\n",
       " 0.17259472295083203,\n",
       " 0.024439508439162129,\n",
       " 0.028410242473649421,\n",
       " 0.073892419694016123,\n",
       " 0.18581302180917522,\n",
       " 0.019993279418218792,\n",
       " 0.016653339957977742,\n",
       " 0.02374015911559604,\n",
       " 0.021747940041492157,\n",
       " 0.019367830745362382,\n",
       " 0.012919490519786588,\n",
       " 0.025559936198457766,\n",
       " 0.017111252016224349,\n",
       " 0.020532367714520924,\n",
       " 0.019458667063050303,\n",
       " 0.013249325443344881,\n",
       " 0.01942334702964045,\n",
       " 0.020337172283755107,\n",
       " 0.018413770628321179,\n",
       " 0.05999769363707573,\n",
       " 0.020062228730124154,\n",
       " 0.019906469202105814,\n",
       " 0.016059184821374889,\n",
       " 0.019684095844333321,\n",
       " 0.041142221155113873,\n",
       " 0.02087799088909675,\n",
       " 0.023160144542858169,\n",
       " 0.048990131568259702,\n",
       " 0.0085798888854080133,\n",
       " 0.020015288049999067,\n",
       " 0.071034790605918843,\n",
       " 0.026135247086184338,\n",
       " 0.024039683559576922,\n",
       " 0.0083666866242002227,\n",
       " 0.026745588524377275,\n",
       " 0.030911082593834047,\n",
       " 0.020012194448399839,\n",
       " 0.0080044103325573931,\n",
       " 0.010388630535212735,\n",
       " 0.019872995268824637,\n",
       " 0.054893052845728305,\n",
       " 0.072010312260350276,\n",
       " 0.031655119059268017,\n",
       " 0.026132666289283662,\n",
       " 0.054300209928431237,\n",
       " 0.006165563483203202,\n",
       " 0.0098405736817684004,\n",
       " 0.028200405004232532,\n",
       " 0.0078845050662140932,\n",
       " 0.021248388866356546,\n",
       " 0.022994170914638377,\n",
       " 0.04781391121973029,\n",
       " 0.057297413158751968,\n",
       " 0.0069556358025616542,\n",
       " 0.024406460057815226,\n",
       " 0.018856343971611553,\n",
       " 0.0083231655159674914,\n",
       " 0.031718284508411021,\n",
       " 0.0096339455945979209,\n",
       " 0.17508396272603047,\n",
       " 0.02029594385779188,\n",
       " 0.031169037085141769,\n",
       " 0.025955474253150427,\n",
       " 0.087831622098737308,\n",
       " 0.02035708973827656,\n",
       " 0.028344409436909423,\n",
       " 0.03117835692781358,\n",
       " 0.0053736991253393127,\n",
       " 0.019100315278484895,\n",
       " 0.022436834015864292,\n",
       " 0.026769246547533782,\n",
       " 0.16441132190225793,\n",
       " 0.020740985386097827,\n",
       " 0.0028604952675079271,\n",
       " 0.024806310675775611,\n",
       " 0.013839116182723835,\n",
       " 0.030380398832576046,\n",
       " 0.019423603261400749,\n",
       " 0.024366419433584759,\n",
       " 0.023999307906812088,\n",
       " 0.010396622975315815,\n",
       " 0.016553922298334117,\n",
       " 0.020190087791347195,\n",
       " 0.0096292141759378707,\n",
       " 0.027265334034809019,\n",
       " 0.030944194454767749,\n",
       " 0.015981643817728222,\n",
       " 0.02364622683584261,\n",
       " 0.037952328933274923,\n",
       " 0.020426879944070882,\n",
       " 0.023445739920213093,\n",
       " 0.014485705908327979,\n",
       " 0.006432188030885991,\n",
       " 0.019487991764581519,\n",
       " 0.031246843569056274,\n",
       " 0.015045684368299143,\n",
       " 0.029312567533789493,\n",
       " 0.03481633177836508,\n",
       " 0.030277511394832052,\n",
       " 0.066920513943426491,\n",
       " 0.019556618869496282,\n",
       " 0.020831334442171508,\n",
       " 0.02054334121835286,\n",
       " 0.072051589923259482,\n",
       " 0.039762950072596066,\n",
       " 0.037470970968751127,\n",
       " 0.020451167814149334,\n",
       " 0.019594124044728323,\n",
       " 0.0066464309190817994,\n",
       " 0.011093821199936505,\n",
       " 0.014923990529928093,\n",
       " 0.020326082246694691,\n",
       " 0.01897698048374873,\n",
       " 0.039534500951271534,\n",
       " 0.027598605032640534,\n",
       " 0.037095312840522074,\n",
       " 0.050809990161393308,\n",
       " 0.0090843372319939688,\n",
       " 0.019965250367966529,\n",
       " 0.021134534576160536,\n",
       " 0.031821539590823143,\n",
       " 0.019529802845456436,\n",
       " 0.021010352210088852,\n",
       " 0.03451908717379553,\n",
       " 0.023587269011694154,\n",
       " 0.067544691295785525,\n",
       " 0.019529215553387314,\n",
       " 0.062612555560358774,\n",
       " 0.019092131079001675,\n",
       " 0.024191951424490134,\n",
       " 0.085784967287530267,\n",
       " 0.032264723941788774,\n",
       " 0.037802134899015231,\n",
       " 0.070049194441200183,\n",
       " 0.07008598507199984,\n",
       " 0.028339501584022129,\n",
       " 0.0095050554478137705,\n",
       " 0.019685023332587297,\n",
       " 0.023511113126465727,\n",
       " 0.022003722046489208,\n",
       " 0.021193564551879367,\n",
       " 0.02567821402667074,\n",
       " 0.019273451854044405,\n",
       " 0.0099392311189603379,\n",
       " 0.026878779590627594,\n",
       " 0.034725443115735263,\n",
       " 0.062033232578882734,\n",
       " 0.010437622655954005,\n",
       " 0.013515882210808848,\n",
       " 0.041922563629102669,\n",
       " 0.025717292819582637,\n",
       " 0.025980420810441055,\n",
       " 0.019513922652090575,\n",
       " 0.020328721576466247,\n",
       " 0.0095446143192838753,\n",
       " 0.045340604683177035,\n",
       " 0.034693082684486863,\n",
       " 0.068033451687643007,\n",
       " 0.023325306702686687,\n",
       " 0.02237992793868597,\n",
       " 0.021142809372024608,\n",
       " 0.017123153216399983,\n",
       " 0.0092200886049210867,\n",
       " 0.070325767889807864,\n",
       " 0.038710542951355807,\n",
       " 0.057821657573609429,\n",
       " 0.019139408771683894,\n",
       " 0.0075204175798659631,\n",
       " 0.015526285525752755,\n",
       " 0.014591241360318898,\n",
       " 0.02032508812774762,\n",
       " 0.010107097452631201,\n",
       " 0.030808906488431872,\n",
       " 0.010712871192046971,\n",
       " 0.012673597904003266,\n",
       " 0.011152264939309358,\n",
       " 0.035787282281523891,\n",
       " 0.040331980832261513,\n",
       " 0.0264479600747668,\n",
       " 0.023791479227573235,\n",
       " 0.021812161268334351,\n",
       " 0.02183695441683094,\n",
       " 0.011640939793325936,\n",
       " 0.069943729627142445,\n",
       " 0.019576140093189875,\n",
       " 0.012216814894021108,\n",
       " 0.0086771346335668686,\n",
       " 0.015034489663438714,\n",
       " 0.0086418423303030525,\n",
       " 0.024150138349656954,\n",
       " 0.019729281714374457,\n",
       " 0.019377703309192813,\n",
       " 0.05779666464657212,\n",
       " 0.025710413407929202,\n",
       " 0.011990514543980221,\n",
       " 0.036619652623435056,\n",
       " 0.019484292823777977,\n",
       " 0.014510075359077258,\n",
       " 0.051999961853872567,\n",
       " 0.01093006157704484,\n",
       " 0.047258610359458608,\n",
       " 0.072904175517174777,\n",
       " 0.024625081659043441,\n",
       " 0.020558281713935266,\n",
       " 0.022006111230716892,\n",
       " 0.034145614623807462,\n",
       " 0.040072280684917,\n",
       " 0.010053316107685131,\n",
       " 0.018202029543980151,\n",
       " 0.025732964676646233,\n",
       " 0.020074789483984085,\n",
       " 0.021906366381099562,\n",
       " 0.020282477444770908,\n",
       " 0.014544478899495799,\n",
       " 0.05407104894668565,\n",
       " 0.029214743543009337,\n",
       " 0.025759997390454117,\n",
       " 0.019920118559313936,\n",
       " 0.012855939950766978,\n",
       " 0.024451040925348316,\n",
       " 0.027930041022392552,\n",
       " 0.0076763357261640528,\n",
       " 0.022350723153922697,\n",
       " 0.039795665921259646,\n",
       " 0.069867558713264416,\n",
       " 0.019757287388982411,\n",
       " 0.070566866970986228,\n",
       " 0.025212246410025039,\n",
       " 0.021621779525035072,\n",
       " 0.035989570308250618,\n",
       " 0.020174833389730033,\n",
       " 0.0098521462499824262,\n",
       " 0.020115496180928952,\n",
       " 0.010832626599459608,\n",
       " 0.019841297005335098,\n",
       " 0.086212792495248131,\n",
       " 0.022871250204961086,\n",
       " 0.0098791050716441342,\n",
       " 0.0091000132731615443,\n",
       " 0.015444869919608369,\n",
       " 0.016630228978024623,\n",
       " 0.037140198943673049,\n",
       " 0.021905377185923929,\n",
       " 0.024119835769800591,\n",
       " 0.051431842831411605,\n",
       " 0.02435578615606377,\n",
       " 0.070075066796367894,\n",
       " 0.020120546350127083,\n",
       " 0.011039988108932898,\n",
       " 0.026820054531231218,\n",
       " 0.018126740800578939,\n",
       " 0.022916824077040095,\n",
       " 0.023760493235834238,\n",
       " 0.020031564974764951,\n",
       " 0.031124632171434054,\n",
       " 0.020385491739196376,\n",
       " 0.01073017515955571,\n",
       " 0.027061975552989666,\n",
       " 0.047161021459446374,\n",
       " 0.025023573288234097,\n",
       " 0.023813540459204727,\n",
       " 0.031017486808038897,\n",
       " 0.068570242307048224,\n",
       " 0.022201278199034918,\n",
       " 0.0081836916658732089,\n",
       " 0.020091926944859423,\n",
       " 0.019390733901376144,\n",
       " 0.013401955054264936,\n",
       " 0.03325571312920534,\n",
       " 0.019195771833131536,\n",
       " 0.035476138626761286,\n",
       " 0.039832314735554659,\n",
       " 0.017334645091537003,\n",
       " 0.0062725385746185839,\n",
       " 0.082775997418236144,\n",
       " 0.019657931949535207,\n",
       " 0.0048898718117655728,\n",
       " 0.021048226344702624,\n",
       " 0.019632139766743752,\n",
       " 0.01846144068812719,\n",
       " 0.021376126036040655,\n",
       " 0.026796821148168965,\n",
       " 0.0068621372228614376,\n",
       " 0.070206456453530131,\n",
       " 0.022235607247702516,\n",
       " 0.017859515210750455,\n",
       " 0.040992914909164374,\n",
       " 0.0079825304421339231,\n",
       " 0.020202408677826193,\n",
       " 0.0044223317437096952,\n",
       " 0.025317888788819819,\n",
       " 0.022985010431797688,\n",
       " 0.035113257301897738,\n",
       " 0.042742835506739824,\n",
       " 0.017331225131264782,\n",
       " 0.021022595922767302,\n",
       " 0.013899023866510261,\n",
       " 0.032180805889381943,\n",
       " 0.0054243936907095126,\n",
       " 0.020422125810786104,\n",
       " 0.0075582310883998182,\n",
       " 0.029814908013975881,\n",
       " 0.008111054530560562,\n",
       " 0.024960276782456985,\n",
       " 0.020101343735513588,\n",
       " 0.036925111978169563,\n",
       " 0.03663830292799896,\n",
       " 0.028526200125063586,\n",
       " 0.0085130486312969371,\n",
       " 0.02303522318768917,\n",
       " 0.019301057096025091,\n",
       " 0.019109249869026845,\n",
       " 0.024389937147509672,\n",
       " 0.026581479716954293,\n",
       " 0.02238788459442945,\n",
       " 0.020058379125635406,\n",
       " 0.025642610250121715,\n",
       " 0.070040816774197878,\n",
       " 0.031662171075256415,\n",
       " 0.020183676114471083,\n",
       " 0.026292022113862158,\n",
       " 0.030628281756445368,\n",
       " 0.014202188229286164,\n",
       " 0.02156926016000708,\n",
       " 0.02007274789982386,\n",
       " 0.071524324176956727,\n",
       " 0.020545786278069984,\n",
       " 0.011523119680780151,\n",
       " 0.020472273596367448,\n",
       " 0.027286229975366297,\n",
       " 0.014918364516821676,\n",
       " 0.020117358173324773,\n",
       " 0.010330342308620309,\n",
       " 0.034991249505249511,\n",
       " 0.024290363769028139,\n",
       " 0.027090366043735228,\n",
       " 0.023772132349426472,\n",
       " 0.026197169431836809,\n",
       " 0.024486287664846049,\n",
       " 0.0068603700736036225,\n",
       " 0.020069475235750093,\n",
       " 0.035247383682181423,\n",
       " 0.026093786952614825,\n",
       " 0.0099855848151747355,\n",
       " 0.02227735019537317,\n",
       " 0.030934205279810317,\n",
       " 0.020625079704691119,\n",
       " 0.055875505465605602,\n",
       " 0.011279456769728666,\n",
       " 0.02256475245864404,\n",
       " 0.074549108401736855,\n",
       " 0.020687465457667992,\n",
       " 0.016882473286849446,\n",
       " 0.022220625744927291,\n",
       " 0.06722619161287742,\n",
       " 0.019698873088909101,\n",
       " 0.024518914692820762,\n",
       " 0.070607627637627707,\n",
       " 0.022584869645891934,\n",
       " 0.021525707439208588,\n",
       " 0.025623364814229891,\n",
       " 0.065935219238874812,\n",
       " 0.027285758739992279,\n",
       " 0.03084082078827298,\n",
       " 0.054203907490872408,\n",
       " 0.18201271596240734,\n",
       " 0.017290504798985303,\n",
       " 0.019625292683360118,\n",
       " 0.012348403917066439,\n",
       " 0.032554360610806375,\n",
       " 0.0241420866585472,\n",
       " 0.03504940421583843,\n",
       " 0.010424987198853991,\n",
       " 0.021203948217184871,\n",
       " 0.024634517989967193,\n",
       " 0.020145967812088744,\n",
       " 0.023171732014922484,\n",
       " 0.015620779772555273,\n",
       " 0.01191147133315325,\n",
       " 0.020157351109488526,\n",
       " 0.016511759650787515,\n",
       " 0.022157473911583247,\n",
       " 0.024389696151307948,\n",
       " 0.019771409472907009,\n",
       " 0.0092658900548439147,\n",
       " 0.0089141355520538246,\n",
       " 0.017813005824211053,\n",
       " 0.026801103571549353,\n",
       " 0.011660145594506784,\n",
       " 0.021918584662365102,\n",
       " 0.019971005677190914,\n",
       " 0.0062071217102751966,\n",
       " 0.0099277494618790815,\n",
       " 0.019064074012192619,\n",
       " 0.011696350978641497,\n",
       " 0.024953123151143217,\n",
       " 0.022866918520741662,\n",
       " 0.02368169601307224,\n",
       " 0.022405826491441194,\n",
       " 0.067242929773964261,\n",
       " 0.0056660154763418435,\n",
       " 0.020594060876736237,\n",
       " 0.01502142903408462,\n",
       " 0.014525958348442012,\n",
       " 0.012462528383016707,\n",
       " 0.0086894415247076532,\n",
       " 0.020355762607829231,\n",
       " 0.024120716628835751,\n",
       " 0.025874167902665928,\n",
       " 0.0080833192712998179,\n",
       " 0.025720545751365238,\n",
       " 0.01972181780760646,\n",
       " 0.0082954446460113025,\n",
       " 0.023802663617344687,\n",
       " 0.088278826346691291,\n",
       " 0.1159363833867742,\n",
       " 0.024813825282143303,\n",
       " 0.025629557502599241,\n",
       " 0.022141039471273459,\n",
       " 0.016121421772946256,\n",
       " 0.019929520825001813,\n",
       " 0.0075541586538097043,\n",
       " 0.023390705899124863,\n",
       " 0.048115292689873912,\n",
       " 0.026414529057048077,\n",
       " 0.020292341500583899,\n",
       " 0.0087762646995550083,\n",
       " 0.021216366817840736,\n",
       " 0.021456043514681347,\n",
       " 0.0077620973582413245,\n",
       " 0.021945734470927656,\n",
       " 0.041439223505327298,\n",
       " 0.023816233387177227,\n",
       " 0.067248058383332532,\n",
       " 0.019755066882318977,\n",
       " 0.019680851981616905,\n",
       " 0.01119748254954249,\n",
       " 0.004519920549948455,\n",
       " 0.020091655826952652,\n",
       " 0.023223433336855091,\n",
       " 0.02053210954139691,\n",
       " 0.021412752114384277,\n",
       " 0.019223180276674516,\n",
       " 0.0055992466038077091,\n",
       " 0.019659459921566924,\n",
       " 0.019933443802150674,\n",
       " 0.022520385929280694,\n",
       " 0.027860437192294644,\n",
       " 0.02165079753642063,\n",
       " 0.022572144889583427,\n",
       " 0.016158659474603761,\n",
       " 0.02020769237317541,\n",
       " 0.011344572048152146,\n",
       " 0.01936609901048187,\n",
       " 0.016503844204822614,\n",
       " 0.0096005962582564799,\n",
       " 0.012812323599538947,\n",
       " 0.019608937646565815,\n",
       " 0.011658038211665367,\n",
       " 0.021555565425354847,\n",
       " 0.019695343791166008,\n",
       " 0.023727455357308466,\n",
       " 0.020249948275368659,\n",
       " 0.024251428964838635,\n",
       " 0.024134304912600654,\n",
       " 0.020087610038410496,\n",
       " 0.031297641764613381,\n",
       " 0.02076151389360132,\n",
       " 0.017973686730649849,\n",
       " 0.077797047923739496,\n",
       " 0.021880404268675147,\n",
       " 0.022162178310621835,\n",
       " 0.0088947434272008026,\n",
       " 0.019909268931783582,\n",
       " 0.039966482357045828,\n",
       " 0.02154678235861239,\n",
       " 0.0093915401803713171,\n",
       " 0.019807613935340647,\n",
       " 0.022395354052615078,\n",
       " 0.025230243155919169,\n",
       " 0.020053098620742293,\n",
       " 0.021847157683452738,\n",
       " 0.057602861666740522,\n",
       " 0.021065201104488982,\n",
       " 0.0090828633370974195,\n",
       " 0.023914924118962771,\n",
       " 0.073808036200031499,\n",
       " 0.02520049882185867,\n",
       " 0.022885558461520673,\n",
       " 0.019898199973581141,\n",
       " 0.025912361789955939,\n",
       " 0.019920476398100198,\n",
       " 0.016896755032247576,\n",
       " 0.02182910383129338,\n",
       " 0.030644554047463236,\n",
       " 0.021331876363701038,\n",
       " 0.017955295920489486,\n",
       " 0.01957554409474269,\n",
       " 0.022525564416496991,\n",
       " 0.0077177144911697851,\n",
       " 0.0068323314184805502,\n",
       " 0.02458800799625745,\n",
       " 0.023080704742711872,\n",
       " 0.071233901376694081,\n",
       " 0.043648218636243394,\n",
       " 0.023648100098475171,\n",
       " 0.016492484776721272,\n",
       " 0.020107184822514695,\n",
       " 0.0080249819319835308,\n",
       " 0.020463378200039621,\n",
       " 0.0067381288613288983,\n",
       " 0.032629055332886625,\n",
       " 0.031528737274432159,\n",
       " 0.030298526658857513,\n",
       " 0.020586687755619434,\n",
       " 0.01073613653509488,\n",
       " 0.029805044369866553,\n",
       " 0.021939829057967802,\n",
       " 0.0075903550141213768,\n",
       " 0.027728045202542833,\n",
       " 0.033738304342416946,\n",
       " 0.068958420454515196,\n",
       " 0.01964390465602673,\n",
       " 0.070211555450957017,\n",
       " 0.022774504319368814,\n",
       " 0.03536563579548184,\n",
       " 0.070523575351749954,\n",
       " 0.021575626280114585,\n",
       " 0.020459071396407309,\n",
       " 0.070785059267251274,\n",
       " 0.02750519891874436,\n",
       " 0.020102854127736478,\n",
       " 0.01109351796212541,\n",
       " 0.022283887670443005,\n",
       " 0.041487336105182286,\n",
       " 0.021563484443033312,\n",
       " 0.021859397903645515,\n",
       " 0.010293300089928575,\n",
       " 0.027250660117727737,\n",
       " 0.071267645551677694,\n",
       " 0.0069839936746148319,\n",
       " 0.0098594952486303344,\n",
       " 0.015310650200216417,\n",
       " 0.086358076409028983,\n",
       " 0.010846178443745729,\n",
       " 0.017700699061632501,\n",
       " 0.020368019664452994,\n",
       " 0.023969200079644089,\n",
       " 0.020889411065444539,\n",
       " 0.021630736722935015,\n",
       " 0.018614499302214604,\n",
       " 0.020177800580818694,\n",
       " 0.020327349382430297,\n",
       " 0.038024770420555652,\n",
       " 0.02126392500891381,\n",
       " 0.022475195909400732,\n",
       " 0.022976365074283134,\n",
       " 0.021305488546437983,\n",
       " 0.016111760557839857,\n",
       " 0.021672484055394601,\n",
       " 0.073087945779230182,\n",
       " 0.0073264218200566516,\n",
       " 0.019236170841242052,\n",
       " 0.012630189052862019,\n",
       " 0.02279416844451088,\n",
       " 0.080944430947372997,\n",
       " 0.017346229678325876,\n",
       " 0.030155385359203063,\n",
       " 0.024355331124674535,\n",
       " 0.010291849592900703,\n",
       " 0.029119648083069511,\n",
       " 0.015624590553059073,\n",
       " 0.02674676629345597,\n",
       " 0.0059422960014113351,\n",
       " 0.0073611276666502761,\n",
       " 0.068415265459956839,\n",
       " 0.023251737557538617,\n",
       " 0.0091852843350045225,\n",
       " 0.020941733347677856,\n",
       " 0.013048864268502929,\n",
       " 0.041464383841326974,\n",
       " 0.020155855169990224,\n",
       " 0.073508564155217018,\n",
       " 0.022574508733045506,\n",
       " 0.011868620036170641,\n",
       " 0.023431570143274256,\n",
       " 0.01921250593081527,\n",
       " 0.021282429910330181,\n",
       " 0.010061760694612579,\n",
       " 0.014992911001205436,\n",
       " 0.040590494351264654,\n",
       " 0.035835485158059295,\n",
       " 0.02606237375848585,\n",
       " 0.020580203597962764,\n",
       " 0.010253432535114725,\n",
       " 0.023996708878795386,\n",
       " 0.02023660641423328,\n",
       " 0.026624697286286463,\n",
       " 0.025448084059989069,\n",
       " 0.014543845620989327,\n",
       " 0.01239439542253345,\n",
       " 0.021658318812999629,\n",
       " 0.073597281375201398,\n",
       " 0.016626164542640105,\n",
       " 0.0084309127582954026,\n",
       " 0.020567125388513754,\n",
       " 0.0065429104532042275,\n",
       " 0.025932232231201356,\n",
       " 0.019821637982658513,\n",
       " 0.019382625490754007,\n",
       " 0.0087191741931582044,\n",
       " 0.039194368281432329,\n",
       " 0.037817007382386261,\n",
       " 0.02561896681598325,\n",
       " 0.021188456117172596,\n",
       " 0.038475519459366149,\n",
       " 0.0072922482015419839,\n",
       " 0.020726232543518706,\n",
       " 0.023253197679096321,\n",
       " 0.020280027639168818,\n",
       " 0.0067214738069470122,\n",
       " 0.0092276830499381894,\n",
       " 0.011076275942975987,\n",
       " 0.020021577181539827,\n",
       " 0.015303595495559251,\n",
       " 0.020391719038610069,\n",
       " 0.01979797073409351,\n",
       " 0.021044156775633205,\n",
       " 0.020692854032286233,\n",
       " 0.011769542590241711,\n",
       " 0.037732218455353767,\n",
       " 0.021434411096715063,\n",
       " 0.021507156171883059,\n",
       " 0.027620637049635608,\n",
       " 0.021477507993385336,\n",
       " 0.020687752865661498,\n",
       " 0.023050214013926099,\n",
       " 0.013827595638711151,\n",
       " 0.040159195746290441,\n",
       " 0.1165095156429457,\n",
       " 0.0097524165021167925,\n",
       " 0.031876631152251964,\n",
       " 0.021333611774538096,\n",
       " 0.075628526136236843,\n",
       " 0.029047172878111326,\n",
       " 0.035486379267477358,\n",
       " 0.019971965572490528,\n",
       " 0.025773798768467235,\n",
       " 0.020338312271403081,\n",
       " 0.021049369026071761,\n",
       " 0.02408223061360909,\n",
       " 0.010842762113666637,\n",
       " 0.016067023474882432,\n",
       " 0.01572833338159926,\n",
       " 0.012872141626078915,\n",
       " 0.025293153708996586,\n",
       " 0.0088784777890096363,\n",
       " 0.021289721959425859,\n",
       " 0.0091075138543763087,\n",
       " 0.10841135251996496,\n",
       " 0.029397950168464793,\n",
       " 0.020004450702950902,\n",
       " 0.065345008820477876,\n",
       " 0.019861050748037512,\n",
       " 0.016328508555224833,\n",
       " 0.0090084187514021564,\n",
       " 0.024857160100640738,\n",
       " 0.0044765925008224041,\n",
       " 0.022615130839355169,\n",
       " 0.024126015213448725,\n",
       " 0.027585303458634594,\n",
       " 0.019705502478708108,\n",
       " 0.019393205468837455,\n",
       " 0.013910686439122535,\n",
       " 0.020196381955217713,\n",
       " 0.020099525412021216,\n",
       " 0.019975236908894127,\n",
       " 0.022272422285455489,\n",
       " 0.019919429447514157,\n",
       " 0.011368499968377922,\n",
       " 0.023918660369298902,\n",
       " 0.019586864272978649,\n",
       " 0.0073644086697488269,\n",
       " 0.012130389363776348,\n",
       " 0.021233809508757362,\n",
       " 0.029465660639183107,\n",
       " 0.020099191181634782,\n",
       " 0.067469751646929504,\n",
       " 0.02319738735329422,\n",
       " 0.085654570945903646,\n",
       " 0.085654570945903646,\n",
       " ...]"
      ]
     },
     "execution_count": 114,
     "metadata": {},
     "output_type": "execute_result"
    }
   ],
   "source": [
    "distance2"
   ]
  },
  {
   "cell_type": "code",
   "execution_count": 116,
   "metadata": {},
   "outputs": [
    {
     "data": {
      "text/plain": [
       "{'bathrooms': 1.75,\n",
       " 'bedrooms': 3.0,\n",
       " 'condition': 3,\n",
       " 'constant': 1,\n",
       " 'date': datetime.datetime(2014, 6, 24, 0, 0, tzinfo=GMT +0.0),\n",
       " 'floors': 1.0,\n",
       " 'grade': 7,\n",
       " 'id': '5101402488',\n",
       " 'lat': 47.69499723,\n",
       " 'long': -122.30354713,\n",
       " 'price': 438000,\n",
       " 'sqft_above': 790,\n",
       " 'sqft_basement': 730,\n",
       " 'sqft_living': 1520.0,\n",
       " 'sqft_living15': 1520.0,\n",
       " 'sqft_lot': 6380,\n",
       " 'sqft_lot15': 6235.0,\n",
       " 'view': 0,\n",
       " 'waterfront': 0,\n",
       " 'yr_built': 1948,\n",
       " 'yr_renovated': 0,\n",
       " 'zipcode': '98115'}"
      ]
     },
     "execution_count": 116,
     "metadata": {},
     "output_type": "execute_result"
    }
   ],
   "source": [
    "test[2]"
   ]
  },
  {
   "cell_type": "code",
   "execution_count": 113,
   "metadata": {},
   "outputs": [
    {
     "data": {
      "text/plain": [
       "{'bathrooms': 1.5,\n",
       " 'bedrooms': 3.0,\n",
       " 'condition': 3,\n",
       " 'constant': 1,\n",
       " 'date': datetime.datetime(2015, 3, 12, 0, 0, tzinfo=GMT +0.0),\n",
       " 'floors': 1.0,\n",
       " 'grade': 7,\n",
       " 'id': '4324200060',\n",
       " 'lat': 47.42161059,\n",
       " 'long': -122.17388886,\n",
       " 'price': 249000,\n",
       " 'sqft_above': 1010,\n",
       " 'sqft_basement': 690,\n",
       " 'sqft_living': 1700.0,\n",
       " 'sqft_living15': 1440.0,\n",
       " 'sqft_lot': 8247,\n",
       " 'sqft_lot15': 8400.0,\n",
       " 'view': 0,\n",
       " 'waterfront': 0,\n",
       " 'yr_built': 1970,\n",
       " 'yr_renovated': 0,\n",
       " 'zipcode': '98031'}"
      ]
     },
     "execution_count": 113,
     "metadata": {},
     "output_type": "execute_result"
    }
   ],
   "source": [
    "train[382]"
   ]
  },
  {
   "cell_type": "markdown",
   "metadata": {},
   "source": [
    "# Perform k-nearest neighbor regression"
   ]
  },
  {
   "cell_type": "markdown",
   "metadata": {},
   "source": [
    "For k-nearest neighbors, we need to find a *set* of k houses in the training set closest to a given query house. We then make predictions based on these k nearest neighbors."
   ]
  },
  {
   "cell_type": "markdown",
   "metadata": {},
   "source": [
    "## Fetch k-nearest neighbors\n",
    "\n",
    "Using the functions above, implement a function that takes in\n",
    " * the value of k;\n",
    " * the feature matrix for the training houses; and\n",
    " * the feature vector of the query house\n",
    " \n",
    "and returns the indices of the k closest training houses. For instance, with 2-nearest neighbor, a return value of [5, 10] would indicate that the 6th and 11th training houses are closest to the query house.\n",
    "\n",
    "**Hint**: Look at the [documentation for `np.argsort`](http://docs.scipy.org/doc/numpy/reference/generated/numpy.argsort.html)."
   ]
  },
  {
   "cell_type": "code",
   "execution_count": 69,
   "metadata": {
    "collapsed": true
   },
   "outputs": [],
   "source": [
    "def knearest(k, houseset, queryhouse):\n",
    "    turned_set = []\n",
    "    khouses = []\n",
    "    diff3 = houseset - queryhouse\n",
    "    distance3 = np.sqrt(np.sum(diff3**2, axis=1))\n",
    "    sortedhouse = np.argsort(distance3)\n",
    "    return sortedhouse"
   ]
  },
  {
   "cell_type": "code",
   "execution_count": 65,
   "metadata": {},
   "outputs": [
    {
     "data": {
      "text/plain": [
       "array([ 382, 1149, 4087, ..., 1107, 5226, 2486])"
      ]
     },
     "execution_count": 65,
     "metadata": {},
     "output_type": "execute_result"
    }
   ],
   "source": [
    "houseset = features_train\n",
    "queryhouse = features_test[2]\n",
    "diff3 = houseset - queryhouse\n",
    "distance3 = np.sqrt(np.sum(diff3**2, axis=1))\n",
    "\n",
    "sortedhouse = np.argsort(distance3)\n",
    "sortedhouse"
   ]
  },
  {
   "cell_type": "code",
   "execution_count": 66,
   "metadata": {},
   "outputs": [
    {
     "data": {
      "text/plain": [
       "array([ 382, 1149, 4087, 3142])"
      ]
     },
     "execution_count": 66,
     "metadata": {},
     "output_type": "execute_result"
    }
   ],
   "source": [
    "sortedhouse[0:4]"
   ]
  },
  {
   "cell_type": "markdown",
   "metadata": {},
   "source": [
    "*** QUIZ QUESTION ***\n",
    "\n",
    "Take the query house to be third house of the test set (`features_test[2]`).  What are the indices of the 4 training houses closest to the query house?"
   ]
  },
  {
   "cell_type": "code",
   "execution_count": 70,
   "metadata": {},
   "outputs": [
    {
     "data": {
      "text/plain": [
       "array([ 382, 1149, 4087, ..., 1107, 5226, 2486])"
      ]
     },
     "execution_count": 70,
     "metadata": {},
     "output_type": "execute_result"
    }
   ],
   "source": [
    "knearest(4, features_train, features_test[2])"
   ]
  },
  {
   "cell_type": "markdown",
   "metadata": {},
   "source": [
    "## Make a single prediction by averaging k nearest neighbor outputs"
   ]
  },
  {
   "cell_type": "markdown",
   "metadata": {},
   "source": [
    "Now that we know how to find the k-nearest neighbors, write a function that predicts the value of a given query house. **For simplicity, take the average of the prices of the k nearest neighbors in the training set**. The function should have the following parameters:\n",
    " * the value of k;\n",
    " * the feature matrix for the training houses;\n",
    " * the output values (prices) of the training houses; and\n",
    " * the feature vector of the query house, whose price we are predicting.\n",
    " \n",
    "The function should return a predicted value of the query house.\n",
    "\n",
    "**Hint**: You can extract multiple items from a Numpy array using a list of indices. For instance, `output_train[[6, 10]]` returns the prices of the 7th and 11th training houses."
   ]
  },
  {
   "cell_type": "code",
   "execution_count": null,
   "metadata": {
    "collapsed": true
   },
   "outputs": [],
   "source": [
    "def knearestoutput(k, houseset, queryhouse):\n",
    "    turned_set = []\n",
    "    khouses = []\n",
    "    diff4 = houseset - queryhouse\n",
    "    distance4 = np.sqrt(np.sum(diff3**2, axis=1))\n",
    "    sortedhouse = np.argsort(distance3)\n",
    "    return sortedhouse"
   ]
  },
  {
   "cell_type": "markdown",
   "metadata": {},
   "source": [
    "*** QUIZ QUESTION ***\n",
    "\n",
    "Again taking the query house to be third house of the test set (`features_test[2]`), predict the value of the query house using k-nearest neighbors with `k=4` and the simple averaging method described and implemented above."
   ]
  },
  {
   "cell_type": "code",
   "execution_count": 72,
   "metadata": {},
   "outputs": [
    {
     "data": {
      "text/plain": [
       "413987"
      ]
     },
     "execution_count": 72,
     "metadata": {},
     "output_type": "execute_result"
    }
   ],
   "source": [
    "diff4 = features_train - features_test[2]    \n",
    "distance4 = np.sqrt(np.sum(diff4**2, axis=1))\n",
    "sortedhousex = np.argsort(distance4)[0:4]\n",
    "sums = 0\n",
    "for i in sortedhousex:\n",
    "    sums += train[i]['price']\n",
    "    \n",
    "sums = sums / 4\n",
    "\n",
    "sums"
   ]
  },
  {
   "cell_type": "markdown",
   "metadata": {},
   "source": [
    "Compare this predicted value using 4-nearest neighbors to the predicted value using 1-nearest neighbor computed earlier."
   ]
  },
  {
   "cell_type": "markdown",
   "metadata": {},
   "source": [
    "## Make multiple predictions"
   ]
  },
  {
   "cell_type": "markdown",
   "metadata": {},
   "source": [
    "Write a function to predict the value of *each and every* house in a query set. (The query set can be any subset of the dataset, be it the test set or validation set.) The idea is to have a loop where we take each house in the query set as the query house and make a prediction for that specific house. The new function should take the following parameters:\n",
    " * the value of k;\n",
    " * the feature matrix for the training houses;\n",
    " * the output values (prices) of the training houses; and\n",
    " * the feature matrix for the query set.\n",
    " \n",
    "The function should return a set of predicted values, one for each house in the query set.\n",
    "\n",
    "**Hint**: To get the number of houses in the query set, use the `.shape` field of the query features matrix. See [the documentation](http://docs.scipy.org/doc/numpy-1.10.1/reference/generated/numpy.ndarray.shape.html)."
   ]
  },
  {
   "cell_type": "code",
   "execution_count": 75,
   "metadata": {
    "collapsed": true
   },
   "outputs": [],
   "source": [
    "def kpre(k, houseset, prices, queryset):\n",
    "    pre = []\n",
    "    for h in queryset:\n",
    "        diff = houseset - h\n",
    "        distance = np.sqrt(np.sum(diff**2, axis=1))\n",
    "        sortedhouse = np.argsort(distance)[0:k]\n",
    "        sums = 0\n",
    "        for i in sortedhouse:\n",
    "            sums += prices[i]\n",
    "        pre.append(sums / k)\n",
    "    return pre"
   ]
  },
  {
   "cell_type": "markdown",
   "metadata": {},
   "source": [
    "*** QUIZ QUESTION ***\n",
    "\n",
    "Make predictions for the first 10 houses in the test set using k-nearest neighbors with `k=10`. \n",
    "\n",
    "1. What is the index of the house in this query set that has the lowest predicted value? \n",
    "2. What is the predicted value of this house?"
   ]
  },
  {
   "cell_type": "code",
   "execution_count": 76,
   "metadata": {},
   "outputs": [
    {
     "data": {
      "text/plain": [
       "[881300,\n",
       " 431860,\n",
       " 460595,\n",
       " 430200,\n",
       " 766750,\n",
       " 667420,\n",
       " 350032,\n",
       " 512800,\n",
       " 484000,\n",
       " 457235]"
      ]
     },
     "execution_count": 76,
     "metadata": {},
     "output_type": "execute_result"
    }
   ],
   "source": [
    "kpre(10, features_train, train['price'], features_test[0:10])"
   ]
  },
  {
   "cell_type": "markdown",
   "metadata": {},
   "source": [
    "## Choosing the best value of k using a validation set"
   ]
  },
  {
   "cell_type": "markdown",
   "metadata": {},
   "source": [
    "There remains a question of choosing the value of k to use in making predictions. Here, we use a validation set to choose this value. Write a loop that does the following:\n",
    "\n",
    "* For `k` in [1, 2, ..., 15]:\n",
    "    * Makes predictions for each house in the VALIDATION set using the k-nearest neighbors from the TRAINING set.\n",
    "    * Computes the RSS for these predictions on the VALIDATION set\n",
    "    * Stores the RSS computed above in `rss_all`\n",
    "* Report which `k` produced the lowest RSS on VALIDATION set."
   ]
  },
  {
   "cell_type": "markdown",
   "metadata": {},
   "source": [
    "(Depending on your computing environment, this computation may take 10-15 minutes.)"
   ]
  },
  {
   "cell_type": "code",
   "execution_count": 88,
   "metadata": {},
   "outputs": [],
   "source": [
    "def cross(ks):\n",
    "    rsss = []\n",
    "    for k in ks:\n",
    "        kp = kpre(k, features_train, train['price'], features_valid)\n",
    "        dif = kp - validation['price']\n",
    "        rss =0\n",
    "        for idx in range(len(kp)):\n",
    "            rss += (kp[idx] - validation[idx]['price']) * (kp[idx] - validation[idx]['price'])\n",
    "        rsss.append(rss)\n",
    "    return rsss\n",
    "\n",
    "rss_all = cross(range(1, 16))"
   ]
  },
  {
   "cell_type": "code",
   "execution_count": 89,
   "metadata": {},
   "outputs": [
    {
     "data": {
      "text/plain": [
       "[105453830251561,\n",
       " 83445073036317,\n",
       " 72692113667429,\n",
       " 71946729679356,\n",
       " 69846516027353,\n",
       " 68899557352960,\n",
       " 68341986155264,\n",
       " 67361700020962,\n",
       " 68372752298062,\n",
       " 69335060576786,\n",
       " 69523884081979,\n",
       " 69049991793212,\n",
       " 70011272351177,\n",
       " 70908725305267,\n",
       " 71106956486642]"
      ]
     },
     "execution_count": 89,
     "metadata": {},
     "output_type": "execute_result"
    }
   ],
   "source": [
    "rss_all"
   ]
  },
  {
   "cell_type": "markdown",
   "metadata": {},
   "source": [
    "To visualize the performance as a function of `k`, plot the RSS on the VALIDATION set for each considered `k` value:"
   ]
  },
  {
   "cell_type": "code",
   "execution_count": 90,
   "metadata": {},
   "outputs": [
    {
     "data": {
      "text/plain": [
       "[<matplotlib.lines.Line2D at 0x113c73a10>]"
      ]
     },
     "execution_count": 90,
     "metadata": {},
     "output_type": "execute_result"
    },
    {
     "data": {
      "image/png": "[encoded data removed]",
      "text/plain": [
       "<matplotlib.figure.Figure at 0x10f6ac250>"
      ]
     },
     "metadata": {},
     "output_type": "display_data"
    }
   ],
   "source": [
    "import matplotlib.pyplot as plt\n",
    "%matplotlib inline\n",
    "\n",
    "kvals = range(1, 16)\n",
    "plt.plot(kvals, rss_all,'bo-')"
   ]
  },
  {
   "cell_type": "markdown",
   "metadata": {},
   "source": [
    "***QUIZ QUESTION ***\n",
    "\n",
    "What is the RSS on the TEST data using the value of k found above?  To be clear, sum over all houses in the TEST set."
   ]
  },
  {
   "cell_type": "code",
   "execution_count": 92,
   "metadata": {},
   "outputs": [
    {
     "data": {
      "text/plain": [
       "133118842702196"
      ]
     },
     "execution_count": 92,
     "metadata": {},
     "output_type": "execute_result"
    }
   ],
   "source": [
    "kp = kpre(8, features_train, train['price'], features_test)\n",
    "dif = kp - test['price']\n",
    "rss = 0\n",
    "for idx in range(len(kp)):\n",
    "    rss += (kp[idx] - test[idx]['price']) * (kp[idx] - test[idx]['price'])\n",
    "rss"
   ]
  },
  {
   "cell_type": "code",
   "execution_count": null,
   "metadata": {},
   "outputs": [],
   "source": []
  }
 ],
 "metadata": {
  "kernelspec": {
   "display_name": "Python 2",
   "language": "python",
   "name": "python2"
  },
  "language_info": {
   "codemirror_mode": {
    "name": "ipython",
    "version": 2
   },
   "file_extension": ".py",
   "mimetype": "text/x-python",
   "name": "python",
   "nbconvert_exporter": "python",
   "pygments_lexer": "ipython2",
   "version": "2.7.10"
  }
 },
 "nbformat": 4,
 "nbformat_minor": 1
}
